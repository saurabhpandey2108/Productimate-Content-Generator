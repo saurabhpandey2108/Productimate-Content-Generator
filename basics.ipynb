{
 "cells": [
  {
   "cell_type": "code",
   "execution_count": 1,
   "id": "15a1167d",
   "metadata": {},
   "outputs": [
    {
     "name": "stdout",
     "output_type": "stream",
     "text": [
      "content='Why did the scarecrow win an award? \\n\\nBecause he was outstanding in his field!' additional_kwargs={'refusal': None} response_metadata={'token_usage': {'completion_tokens': 18, 'prompt_tokens': 11, 'total_tokens': 29, 'completion_tokens_details': {'accepted_prediction_tokens': 0, 'audio_tokens': 0, 'reasoning_tokens': 0, 'rejected_prediction_tokens': 0}, 'prompt_tokens_details': {'audio_tokens': 0, 'cached_tokens': 0}}, 'model_name': 'gpt-4o-mini-2024-07-18', 'system_fingerprint': 'fp_34a54ae93c', 'id': 'chatcmpl-Bo7ZrQR4fFOSFhwzLbYxbt78AJDlo', 'service_tier': 'default', 'finish_reason': 'stop', 'logprobs': None} id='run--3676b21d-e577-4d15-b278-f93cd0efe0d4-0' usage_metadata={'input_tokens': 11, 'output_tokens': 18, 'total_tokens': 29, 'input_token_details': {'audio': 0, 'cache_read': 0}, 'output_token_details': {'audio': 0, 'reasoning': 0}}\n"
     ]
    }
   ],
   "source": [
    "from langchain_openai import ChatOpenAI\n",
    "\n",
    "llm = ChatOpenAI(model=\"gpt-4o-mini\")\n",
    "llm_response = llm.invoke(\"Tell me a joke\")\n",
    "print(llm_response)"
   ]
  },
  {
   "cell_type": "code",
   "execution_count": 2,
   "id": "f1656c00",
   "metadata": {},
   "outputs": [
    {
     "name": "stdout",
     "output_type": "stream",
     "text": [
      "Why don’t scientists trust atoms?\n",
      "\n",
      "Because they make up everything!\n"
     ]
    }
   ],
   "source": [
    "from langchain_core.output_parsers import StrOutputParser\n",
    "\n",
    "output_parser = StrOutputParser()\n",
    "chain = llm | output_parser\n",
    "result = chain.invoke(\"Tell me a joke\")\n",
    "print(result)\n"
   ]
  },
  {
   "cell_type": "code",
   "execution_count": 3,
   "id": "483c8654",
   "metadata": {},
   "outputs": [
    {
     "name": "stdout",
     "output_type": "stream",
     "text": [
      "Why do programmers prefer dark mode?\n",
      "\n",
      "Because light attracts bugs!\n"
     ]
    }
   ],
   "source": [
    "from langchain_core.prompts import ChatPromptTemplate\n",
    "\n",
    "prompt = ChatPromptTemplate.from_template(\"Tell me a short joke about {topic}\")\n",
    "chain = prompt | llm | output_parser\n",
    "result = chain.invoke({\"topic\": \"programming\"})\n",
    "print(result)\n"
   ]
  },
  {
   "cell_type": "code",
   "execution_count": 4,
   "id": "650745ec",
   "metadata": {},
   "outputs": [
    {
     "name": "stdout",
     "output_type": "stream",
     "text": [
      "content=\"Sure, here's a fun programming joke for you:\\n\\nWhy do programmers prefer dark mode?\\n\\nBecause light attracts bugs! \\n\\nIf you want to know more about programming concepts or need further jokes, feel free to ask!\" additional_kwargs={'refusal': None} response_metadata={'token_usage': {'completion_tokens': 42, 'prompt_tokens': 24, 'total_tokens': 66, 'completion_tokens_details': {'accepted_prediction_tokens': 0, 'audio_tokens': 0, 'reasoning_tokens': 0, 'rejected_prediction_tokens': 0}, 'prompt_tokens_details': {'audio_tokens': 0, 'cached_tokens': 0}}, 'model_name': 'gpt-4o-mini-2024-07-18', 'system_fingerprint': 'fp_34a54ae93c', 'id': 'chatcmpl-Bo7a09TOtqGfaRDgGzhuyvqIsbSMs', 'service_tier': 'default', 'finish_reason': 'stop', 'logprobs': None} id='run--f3a03ef0-2553-4255-9df2-c52ac28342a6-0' usage_metadata={'input_tokens': 24, 'output_tokens': 42, 'total_tokens': 66, 'input_token_details': {'audio': 0, 'cache_read': 0}, 'output_token_details': {'audio': 0, 'reasoning': 0}}\n",
      "content=\"Sure! Programming is the process of creating a set of instructions that a computer can follow to perform specific tasks. It's like giving a well-structured recipe to a chef, but instead of cooking, the chef is a computer.\\n\\nHere’s a little joke to lighten the programming mood:\\n\\nWhy do programmers prefer dark mode?\\n\\nBecause light attracts bugs! 🐛💻\\n\\nIf you'd like to know more about programming or have specific questions, feel free to ask!\" additional_kwargs={'refusal': None} response_metadata={'token_usage': {'completion_tokens': 92, 'prompt_tokens': 24, 'total_tokens': 116, 'completion_tokens_details': {'accepted_prediction_tokens': 0, 'audio_tokens': 0, 'reasoning_tokens': 0, 'rejected_prediction_tokens': 0}, 'prompt_tokens_details': {'audio_tokens': 0, 'cached_tokens': 0}}, 'model_name': 'gpt-4o-mini-2024-07-18', 'system_fingerprint': 'fp_34a54ae93c', 'id': 'chatcmpl-Bo7a1boVerDXobsZYeVdO3qSs2lUI', 'service_tier': 'default', 'finish_reason': 'stop', 'logprobs': None} id='run--d768b22a-81a3-403c-a319-d471995b06bf-0' usage_metadata={'input_tokens': 24, 'output_tokens': 92, 'total_tokens': 116, 'input_token_details': {'audio': 0, 'cache_read': 0}, 'output_token_details': {'audio': 0, 'reasoning': 0}}\n"
     ]
    }
   ],
   "source": [
    "from langchain_core.messages import HumanMessage, SystemMessage\n",
    "\n",
    "messages = [\n",
    "    SystemMessage(content=\"You are a helpful assistant that tells jokes.\"),\n",
    "    HumanMessage(content=\"Tell me about programming\")\n",
    "]\n",
    "response = llm.invoke(messages)\n",
    "print(response)\n",
    "\n",
    "template = ChatPromptTemplate([\n",
    "    (\"system\", \"You are a helpful assistant that tells jokes.\"),\n",
    "    (\"human\", \"Tell me about {topic}\")\n",
    "])\n",
    "chain = template | llm\n",
    "response = chain.invoke({\"topic\": \"programming\"})\n",
    "print(response)\n"
   ]
  },
  {
   "cell_type": "markdown",
   "id": "ac721e1b",
   "metadata": {},
   "source": [
    "Loading Documents"
   ]
  },
  {
   "cell_type": "code",
   "execution_count": 5,
   "id": "af197633",
   "metadata": {},
   "outputs": [
    {
     "name": "stdout",
     "output_type": "stream",
     "text": [
      "Loaded 6 documents from the file.\n"
     ]
    }
   ],
   "source": [
    "from langchain_community.document_loaders import PyPDFLoader\n",
    "from typing import List\n",
    "from langchain_core.documents import Document\n",
    "\n",
    "def load_single_pdf(file_path: str) -> List[Document]:\n",
    "    loader = PyPDFLoader(file_path)\n",
    "    documents = loader.load()\n",
    "    return documents\n",
    "\n",
    "file_path = r\"D:\\Project\\Generative AI\\Productimate.io\\Content\\Productimate Brochure.pdf\"\n",
    "documents = load_single_pdf(file_path)\n",
    "print(f\"Loaded {len(documents)} documents from the file.\")\n"
   ]
  },
  {
   "cell_type": "markdown",
   "id": "c298b821",
   "metadata": {},
   "source": [
    "Splitting Documents"
   ]
  },
  {
   "cell_type": "code",
   "execution_count": 6,
   "id": "a7edf5c2",
   "metadata": {},
   "outputs": [
    {
     "name": "stdout",
     "output_type": "stream",
     "text": [
      "Split the documents into 12 chunks.\n"
     ]
    }
   ],
   "source": [
    "from langchain_text_splitters import RecursiveCharacterTextSplitter\n",
    "\n",
    "text_splitter = RecursiveCharacterTextSplitter(\n",
    "    chunk_size=1000,\n",
    "    chunk_overlap=200,\n",
    "    length_function=len\n",
    ")\n",
    "\n",
    "splits = text_splitter.split_documents(documents)\n",
    "print(f\"Split the documents into {len(splits)} chunks.\")\n"
   ]
  },
  {
   "cell_type": "code",
   "execution_count": 7,
   "id": "23af962a",
   "metadata": {},
   "outputs": [
    {
     "name": "stdout",
     "output_type": "stream",
     "text": [
      "{'producer': 'Skia/PDF m139 Google Docs Renderer', 'creator': 'PyPDF', 'creationdate': '', 'title': 'Productimate Brochure', 'source': 'D:\\\\Project\\\\Generative AI\\\\Productimate.io\\\\Content\\\\Productimate Brochure.pdf', 'total_pages': 6, 'page': 0, 'page_label': '1'}\n"
     ]
    }
   ],
   "source": [
    "print(splits[0].metadata)\n"
   ]
  },
  {
   "cell_type": "code",
   "execution_count": 8,
   "id": "accd4ffc",
   "metadata": {},
   "outputs": [
    {
     "name": "stdout",
     "output_type": "stream",
     "text": [
      "page_content='1.  Company  Profile  \n",
      "Legal  Structure:  Proprietorship  (GST-registered  May  27,  2025)  \n",
      "Trade\n",
      " \n",
      "Name:\n",
      " \n",
      "Productimate\n",
      " \n",
      "AI\n",
      " \n",
      "Solutions\n",
      " \n",
      "Tagline:\n",
      " \n",
      "Smart\n",
      " \n",
      "Tech,\n",
      " \n",
      "Seamless\n",
      " \n",
      "Solution\n",
      " \n",
      "Headquarters:\n",
      " \n",
      "Gurgaon,\n",
      " \n",
      "India\n",
      " Website:  productimate.io  LinkedIn:  linkedin.com/company/productimate-ai-solutions \n",
      " \n",
      "2.  Mission,  Vision  &  Values  \n",
      "●  Mission:  \n",
      "Empower\n",
      " \n",
      "startups\n",
      " \n",
      "and\n",
      " \n",
      "agencies\n",
      " \n",
      "to\n",
      " \n",
      "achieve\n",
      " \n",
      "rapid\n",
      " \n",
      "growth\n",
      " \n",
      "with\n",
      " \n",
      "accessible,\n",
      " \n",
      "high-quality\n",
      " \n",
      "technology,\n",
      " \n",
      "AI\n",
      " \n",
      "automation\n",
      " \n",
      "and\n",
      " \n",
      "design,\n",
      " \n",
      "delivered\n",
      " \n",
      "on\n",
      " \n",
      "time\n",
      " \n",
      "and\n",
      " \n",
      "within\n",
      " \n",
      "budget.\n",
      " ●  Vision:  \n",
      "To\n",
      " \n",
      "be\n",
      " \n",
      "the\n",
      " \n",
      "go-to\n",
      " \n",
      "technology\n",
      " \n",
      "partner\n",
      " \n",
      "for\n",
      " \n",
      "early-stage\n",
      " \n",
      "ventures\n",
      " \n",
      "worldwide—known\n",
      " \n",
      "for\n",
      " \n",
      "flexibility,\n",
      " \n",
      "transparency\n",
      " \n",
      "and\n",
      " \n",
      "SEO-first\n",
      " \n",
      "thinking.\n",
      " ●  Core  Values:  1.  Client-Centricity:  We  listen  deeply,  adapt  quickly,  deliver  precisely.  2.  Innovation:  We  embrace  new  tools—cross-platform,  serverless,  generative  \n",
      "AI—to\n",
      " \n",
      "solve\n",
      " \n",
      "real\n",
      " \n",
      "problems.\n",
      " 3.  Excellence:  We  maintain  rigorous  quality  through  agile  processes  and  CI/CD.  4.  Integrity:  Transparent  pricing,  honest  communication  and  respect  for  deadlines.  5.  Learning  Culture:  Intern-driven  teams  under  experienced  leads  foster  \n",
      "continuous\n",
      " \n",
      "skill\n",
      " \n",
      "growth.\n",
      " \n",
      " \n",
      "3.  Team  &  Organizational  Structure  \n",
      "●  Leadership:  Founder  &  CTO  (Manas  Travasti)—drives  tech  strategy,  client  \n",
      "engagement,\n",
      " \n",
      "and\n",
      " \n",
      "oversees\n",
      " \n",
      "intern\n",
      " \n",
      "leads.\n",
      " ●  Paid  Interns  (2–3):  ○  HR  Intern:  Talent  sourcing,  onboarding,  intern  welfare  ○  Marketing  Intern:  Content  scheduling,  social  media  analytics  ○  Tech  Intern:  Dev-ops  support,  CI/CD  pipelines  ●  Unpaid  Interns  (13–14):  \n",
      "Organized\n",
      " \n",
      "under\n",
      " \n",
      "three\n",
      " \n",
      "Lead\n",
      " \n",
      "Interns\n",
      " \n",
      "(Web,\n",
      " \n",
      "App,\n",
      " \n",
      "AI),\n",
      " \n",
      "they\n",
      " \n",
      "execute\n",
      " \n",
      "feature\n",
      " \n",
      "development,\n",
      " \n",
      "testing,\n",
      " \n",
      "documentation\n",
      " \n",
      "and\n",
      " \n",
      "design\n",
      " \n",
      "tasks.' metadata={'producer': 'Skia/PDF m139 Google Docs Renderer', 'creator': 'PyPDF', 'creationdate': '', 'title': 'Productimate Brochure', 'source': 'D:\\\\Project\\\\Generative AI\\\\Productimate.io\\\\Content\\\\Productimate Brochure.pdf', 'total_pages': 6, 'page': 0, 'page_label': '1'}\n"
     ]
    }
   ],
   "source": [
    "print(documents[0])\n"
   ]
  },
  {
   "cell_type": "markdown",
   "id": "1393bee1",
   "metadata": {},
   "source": [
    "Use OpenAi embedding"
   ]
  },
  {
   "cell_type": "code",
   "execution_count": 9,
   "id": "5393f8e7",
   "metadata": {},
   "outputs": [
    {
     "name": "stdout",
     "output_type": "stream",
     "text": [
      "Created embeddings for 12 document chunks.\n"
     ]
    }
   ],
   "source": [
    "from langchain_openai import OpenAIEmbeddings\n",
    "\n",
    "embeddings = OpenAIEmbeddings()\n",
    "document_embeddings = embeddings.embed_documents([split.page_content for split in splits])\n",
    "print(f\"Created embeddings for {len(document_embeddings)} document chunks.\")\n"
   ]
  },
  {
   "cell_type": "code",
   "execution_count": 10,
   "id": "a9330bad",
   "metadata": {},
   "outputs": [
    {
     "name": "stderr",
     "output_type": "stream",
     "text": [
      "C:\\Users\\saura\\AppData\\Local\\Temp\\ipykernel_19496\\2990070485.py:3: LangChainDeprecationWarning: The class `HuggingFaceEmbeddings` was deprecated in LangChain 0.2.2 and will be removed in 1.0. An updated version of the class exists in the :class:`~langchain-huggingface package and should be used instead. To use it run `pip install -U :class:`~langchain-huggingface` and import as `from :class:`~langchain_huggingface import HuggingFaceEmbeddings``.\n",
      "  embedding_function = SentenceTransformerEmbeddings(model_name=\"all-MiniLM-L6-v2\")\n",
      "d:\\Project\\Generative AI\\Productimate.io\\Content\\.venv\\Lib\\site-packages\\tqdm\\auto.py:21: TqdmWarning: IProgress not found. Please update jupyter and ipywidgets. See https://ipywidgets.readthedocs.io/en/stable/user_install.html\n",
      "  from .autonotebook import tqdm as notebook_tqdm\n"
     ]
    },
    {
     "name": "stdout",
     "output_type": "stream",
     "text": [
      "[-0.09933753311634064, -0.051040176302194595, -0.007813992910087109, -0.06836812943220139, 0.05207698047161102]\n"
     ]
    }
   ],
   "source": [
    "from langchain_community.embeddings.sentence_transformer import SentenceTransformerEmbeddings\n",
    "\n",
    "embedding_function = SentenceTransformerEmbeddings(model_name=\"all-MiniLM-L6-v2\")\n",
    "document_embeddings = embedding_function.embed_documents([split.page_content for split in splits])\n",
    "print(document_embeddings[0][:5])  # Printing first 5 elements of the first embedding\n"
   ]
  },
  {
   "cell_type": "markdown",
   "id": "2c5f687f",
   "metadata": {},
   "source": [
    "Creating vector store"
   ]
  },
  {
   "cell_type": "code",
   "execution_count": 11,
   "id": "3d8e0373",
   "metadata": {},
   "outputs": [
    {
     "name": "stderr",
     "output_type": "stream",
     "text": [
      "Failed to send telemetry event ClientStartEvent: capture() takes 1 positional argument but 3 were given\n",
      "Failed to send telemetry event ClientCreateCollectionEvent: capture() takes 1 positional argument but 3 were given\n"
     ]
    },
    {
     "name": "stdout",
     "output_type": "stream",
     "text": [
      "Vector store created and persisted to './chroma_db'\n"
     ]
    }
   ],
   "source": [
    "from langchain_chroma import Chroma\n",
    "\n",
    "collection_name = \"my_collection\"\n",
    "vectorstore = Chroma.from_documents(\n",
    "    collection_name=collection_name,\n",
    "    documents=splits,\n",
    "    embedding=embedding_function,\n",
    "    persist_directory=\"./chroma_db\"\n",
    ")\n",
    "print(\"Vector store created and persisted to './chroma_db'\")\n"
   ]
  },
  {
   "cell_type": "code",
   "execution_count": 12,
   "id": "c8ad2b32",
   "metadata": {},
   "outputs": [
    {
     "name": "stderr",
     "output_type": "stream",
     "text": [
      "Failed to send telemetry event CollectionQueryEvent: capture() takes 1 positional argument but 3 were given\n"
     ]
    },
    {
     "name": "stdout",
     "output_type": "stream",
     "text": [
      "\n",
      "Top 2 most relevant chunks for the query: 'When was Productimate AI solution found'\n",
      "\n",
      "Result 1:\n",
      "Source: D:\\Project\\Generative AI\\Productimate.io\\Content\\Productimate Brochure.pdf\n",
      "Content: 1.  Company  Profile  \n",
      "Legal  Structure:  Proprietorship  (GST-registered  May  27,  2025)  \n",
      "Trade\n",
      " \n",
      "Name:\n",
      " \n",
      "Productimate\n",
      " \n",
      "AI\n",
      " \n",
      "Solutions\n",
      " \n",
      "Tagline:\n",
      " \n",
      "Smart\n",
      " \n",
      "Tech,\n",
      " \n",
      "Seamless\n",
      " \n",
      "Solution\n",
      " \n",
      "Headquarters:\n",
      " \n",
      "Gurgaon,\n",
      " \n",
      "India\n",
      " Website:  productimate.io  LinkedIn:  linkedin.com/company/productimate-ai-solutions \n",
      " \n",
      "2.  Mission,  Vision  &  Values  \n",
      "●  Mission:  \n",
      "Empower\n",
      " \n",
      "startups\n",
      " \n",
      "and\n",
      " \n",
      "agencies\n",
      " \n",
      "to\n",
      " \n",
      "achieve\n",
      " \n",
      "rapid\n",
      " \n",
      "growth\n",
      " \n",
      "with\n",
      " \n",
      "accessible,\n",
      " \n",
      "high-quality\n",
      " \n",
      "technology,\n",
      " \n",
      "AI\n",
      " \n",
      "automation\n",
      " \n",
      "and\n",
      " \n",
      "design,\n",
      " \n",
      "delivered\n",
      " \n",
      "on\n",
      " \n",
      "time\n",
      " \n",
      "and\n",
      " \n",
      "within\n",
      " \n",
      "budget.\n",
      " ●  Vision:  \n",
      "To\n",
      " \n",
      "be\n",
      " \n",
      "the\n",
      " \n",
      "go-to\n",
      " \n",
      "technology\n",
      " \n",
      "partner\n",
      " \n",
      "for\n",
      " \n",
      "early-stage\n",
      " \n",
      "ventures\n",
      " \n",
      "worldwide—known\n",
      " \n",
      "for\n",
      " \n",
      "flexibility,\n",
      " \n",
      "transparency\n",
      " \n",
      "and\n",
      " \n",
      "SEO-first\n",
      " \n",
      "thinking.\n",
      " ●  Core  Values:  1.  Client-Centricity:  We  listen  deeply,  adapt  quickly,  deliver  precisely.  2.  Innovation:  We  embrace  new  tools—cross-platform,  serverless,  generative  \n",
      "AI—to\n",
      " \n",
      "solve\n",
      " \n",
      "real\n",
      " \n",
      "problems.\n",
      "\n",
      "Result 2:\n",
      "Source: D:\\Project\\Generative AI\\Productimate.io\\Content\\Productimate Brochure.pdf\n",
      "Content: 1.  Company  Profile  \n",
      "Legal  Structure:  Proprietorship  (GST-registered  May  27,  2025)  \n",
      "Trade\n",
      " \n",
      "Name:\n",
      " \n",
      "Productimate\n",
      " \n",
      "AI\n",
      " \n",
      "Solutions\n",
      " \n",
      "Tagline:\n",
      " \n",
      "Smart\n",
      " \n",
      "Tech,\n",
      " \n",
      "Seamless\n",
      " \n",
      "Solution\n",
      " \n",
      "Headquarters:\n",
      " \n",
      "Gurgaon,\n",
      " \n",
      "India\n",
      " Website:  productimate.io  LinkedIn:  linkedin.com/company/productimate-ai-solutions \n",
      " \n",
      "2.  Mission,  Vision  &  Values  \n",
      "●  Mission:  \n",
      "Empower\n",
      " \n",
      "startups\n",
      " \n",
      "and\n",
      " \n",
      "agencies\n",
      " \n",
      "to\n",
      " \n",
      "achieve\n",
      " \n",
      "rapid\n",
      " \n",
      "growth\n",
      " \n",
      "with\n",
      " \n",
      "accessible,\n",
      " \n",
      "high-quality\n",
      " \n",
      "technology,\n",
      " \n",
      "AI\n",
      " \n",
      "automation\n",
      " \n",
      "and\n",
      " \n",
      "design,\n",
      " \n",
      "delivered\n",
      " \n",
      "on\n",
      " \n",
      "time\n",
      " \n",
      "and\n",
      " \n",
      "within\n",
      " \n",
      "budget.\n",
      " ●  Vision:  \n",
      "To\n",
      " \n",
      "be\n",
      " \n",
      "the\n",
      " \n",
      "go-to\n",
      " \n",
      "technology\n",
      " \n",
      "partner\n",
      " \n",
      "for\n",
      " \n",
      "early-stage\n",
      " \n",
      "ventures\n",
      " \n",
      "worldwide—known\n",
      " \n",
      "for\n",
      " \n",
      "flexibility,\n",
      " \n",
      "transparency\n",
      " \n",
      "and\n",
      " \n",
      "SEO-first\n",
      " \n",
      "thinking.\n",
      " ●  Core  Values:  1.  Client-Centricity:  We  listen  deeply,  adapt  quickly,  deliver  precisely.  2.  Innovation:  We  embrace  new  tools—cross-platform,  serverless,  generative  \n",
      "AI—to\n",
      " \n",
      "solve\n",
      " \n",
      "real\n",
      " \n",
      "problems.\n",
      "\n"
     ]
    }
   ],
   "source": [
    "query = \"When was Productimate AI solution found\"\n",
    "search_results = vectorstore.similarity_search(query, k=2)\n",
    "print(f\"\\nTop 2 most relevant chunks for the query: '{query}'\\n\")\n",
    "for i, result in enumerate(search_results, 1):\n",
    "    print(f\"Result {i}:\")\n",
    "    print(f\"Source: {result.metadata.get('source', 'Unknown')}\")\n",
    "    print(f\"Content: {result.page_content}\")\n",
    "    print()\n"
   ]
  },
  {
   "cell_type": "markdown",
   "id": "18fe26b4",
   "metadata": {},
   "source": [
    "Create Retriever"
   ]
  },
  {
   "cell_type": "code",
   "execution_count": 13,
   "id": "0c5e1c09",
   "metadata": {},
   "outputs": [
    {
     "name": "stdout",
     "output_type": "stream",
     "text": [
      "[Document(id='ff814a05-05c9-4bdb-9f35-12ab1c9900f8', metadata={'total_pages': 6, 'title': 'Productimate Brochure', 'creationdate': '', 'page_label': '1', 'producer': 'Skia/PDF m139 Google Docs Renderer', 'page': 0, 'creator': 'PyPDF', 'source': 'D:\\\\Project\\\\Generative AI\\\\Productimate.io\\\\Content\\\\Productimate Brochure.pdf'}, page_content='1.  Company  Profile  \\nLegal  Structure:  Proprietorship  (GST-registered  May  27,  2025)  \\nTrade\\n \\nName:\\n \\nProductimate\\n \\nAI\\n \\nSolutions\\n \\nTagline:\\n \\nSmart\\n \\nTech,\\n \\nSeamless\\n \\nSolution\\n \\nHeadquarters:\\n \\nGurgaon,\\n \\nIndia\\n Website:  productimate.io  LinkedIn:  linkedin.com/company/productimate-ai-solutions \\n \\n2.  Mission,  Vision  &  Values  \\n●  Mission:  \\nEmpower\\n \\nstartups\\n \\nand\\n \\nagencies\\n \\nto\\n \\nachieve\\n \\nrapid\\n \\ngrowth\\n \\nwith\\n \\naccessible,\\n \\nhigh-quality\\n \\ntechnology,\\n \\nAI\\n \\nautomation\\n \\nand\\n \\ndesign,\\n \\ndelivered\\n \\non\\n \\ntime\\n \\nand\\n \\nwithin\\n \\nbudget.\\n ●  Vision:  \\nTo\\n \\nbe\\n \\nthe\\n \\ngo-to\\n \\ntechnology\\n \\npartner\\n \\nfor\\n \\nearly-stage\\n \\nventures\\n \\nworldwide—known\\n \\nfor\\n \\nflexibility,\\n \\ntransparency\\n \\nand\\n \\nSEO-first\\n \\nthinking.\\n ●  Core  Values:  1.  Client-Centricity:  We  listen  deeply,  adapt  quickly,  deliver  precisely.  2.  Innovation:  We  embrace  new  tools—cross-platform,  serverless,  generative  \\nAI—to\\n \\nsolve\\n \\nreal\\n \\nproblems.'), Document(id='2f893387-db59-44aa-8c89-e26d57cf678f', metadata={'creator': 'PyPDF', 'creationdate': '', 'title': 'Productimate Brochure', 'page': 0, 'source': 'D:\\\\Project\\\\Generative AI\\\\Productimate.io\\\\Content\\\\Productimate Brochure.pdf', 'total_pages': 6, 'producer': 'Skia/PDF m139 Google Docs Renderer', 'page_label': '1'}, page_content='1.  Company  Profile  \\nLegal  Structure:  Proprietorship  (GST-registered  May  27,  2025)  \\nTrade\\n \\nName:\\n \\nProductimate\\n \\nAI\\n \\nSolutions\\n \\nTagline:\\n \\nSmart\\n \\nTech,\\n \\nSeamless\\n \\nSolution\\n \\nHeadquarters:\\n \\nGurgaon,\\n \\nIndia\\n Website:  productimate.io  LinkedIn:  linkedin.com/company/productimate-ai-solutions \\n \\n2.  Mission,  Vision  &  Values  \\n●  Mission:  \\nEmpower\\n \\nstartups\\n \\nand\\n \\nagencies\\n \\nto\\n \\nachieve\\n \\nrapid\\n \\ngrowth\\n \\nwith\\n \\naccessible,\\n \\nhigh-quality\\n \\ntechnology,\\n \\nAI\\n \\nautomation\\n \\nand\\n \\ndesign,\\n \\ndelivered\\n \\non\\n \\ntime\\n \\nand\\n \\nwithin\\n \\nbudget.\\n ●  Vision:  \\nTo\\n \\nbe\\n \\nthe\\n \\ngo-to\\n \\ntechnology\\n \\npartner\\n \\nfor\\n \\nearly-stage\\n \\nventures\\n \\nworldwide—known\\n \\nfor\\n \\nflexibility,\\n \\ntransparency\\n \\nand\\n \\nSEO-first\\n \\nthinking.\\n ●  Core  Values:  1.  Client-Centricity:  We  listen  deeply,  adapt  quickly,  deliver  precisely.  2.  Innovation:  We  embrace  new  tools—cross-platform,  serverless,  generative  \\nAI—to\\n \\nsolve\\n \\nreal\\n \\nproblems.')]\n"
     ]
    }
   ],
   "source": [
    "retriever = vectorstore.as_retriever(search_kwargs={\"k\": 2})\n",
    "retriever_results = retriever.invoke(\"what is the vision of Productimate AI Solution\")\n",
    "print(retriever_results)\n"
   ]
  },
  {
   "cell_type": "markdown",
   "id": "ed5ac55c",
   "metadata": {},
   "source": [
    "# RAG Chain"
   ]
  },
  {
   "cell_type": "code",
   "execution_count": null,
   "id": "7fc64733",
   "metadata": {},
   "outputs": [
    {
     "name": "stdout",
     "output_type": "stream",
     "text": [
      "The content discusses various stages of a software development project, namely:\n",
      "\n",
      "1. Initiation & Discovery: A one-week sprint takes place to create user stories, wireframes, and finalize the tech stack.\n",
      "2. Agile Sprints: Work is conducted in two-week iterations, including daily meetings and bi-weekly demos.\n",
      "3. CI/CD & Testing: The project involves unit, integration, and end-to-end tests, linting, coverage thresholds, and Dockerized builds which lead to staging and production deployment.\n",
      "4. Code Reviews & Pair Programming: Intern-led squads review Pull Requests under CTO or Lead supervision.\n",
      "5. SEO & Performance Audits: Steps are taken to ensure Search Engine Optimization and satisfactory website performance, with checks for Lighthouse scores, Core Web Vitals, and accessibility.\n",
      "6. User Acceptance & Handover: Once developed, the project is finalized with detailed documentation, training sessions, and one month of support. \n",
      "\n",
      "There is also mention of a case study for a Live-Commerce Auction App where the startup targeted Gen Z. The project scope was real-time bidding, UPI/credit payment integration, and a live stream dashboard, and it resulted in a 20% increase in bid volume compared to a legacy solution.\n"
     ]
    }
   ],
   "source": [
    "from langchain_core.prompts import ChatPromptTemplate\n",
    "from langchain.chains.combine_documents import create_stuff_documents_chain\n",
    "from langchain.chains import create_retrieval_chain\n",
    "from langchain_openai import ChatOpenAI\n",
    "\n",
    "\n",
    "system_prompt = \"\"\"You are an assistant for summarizing content. Use the retrieved context to highlight key points.\"\"\"\n",
    "prompt = ChatPromptTemplate.from_messages([\n",
    "    (\"system\", system_prompt),\n",
    "    (\"human\", \"Summarize the following content: {context}\\n\\nUser input: {input}\")\n",
    "])\n",
    "\n",
    "llm = ChatOpenAI(model=\"gpt-4\")\n",
    "\n",
    "document_chain = create_stuff_documents_chain(llm, prompt)\n",
    "\n",
    "\n",
    "rag_chain = create_retrieval_chain(retriever, document_chain)\n",
    "\n",
    "\n",
    "result = rag_chain.invoke({\"input\": \"Summarize the main points.\"})\n",
    "print(result[\"answer\"])\n"
   ]
  },
  {
   "cell_type": "code",
   "execution_count": null,
   "id": "a793d933",
   "metadata": {},
   "outputs": [],
   "source": []
  }
 ],
 "metadata": {
  "kernelspec": {
   "display_name": "Content",
   "language": "python",
   "name": "python3"
  },
  "language_info": {
   "codemirror_mode": {
    "name": "ipython",
    "version": 3
   },
   "file_extension": ".py",
   "mimetype": "text/x-python",
   "name": "python",
   "nbconvert_exporter": "python",
   "pygments_lexer": "ipython3",
   "version": "3.13.5"
  }
 },
 "nbformat": 4,
 "nbformat_minor": 5
}
